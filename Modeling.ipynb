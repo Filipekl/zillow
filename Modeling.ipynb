{
 "cells": [
  {
   "cell_type": "code",
   "execution_count": null,
   "metadata": {
    "ExecuteTime": {
     "end_time": "2017-10-03T02:03:16.993811Z",
     "start_time": "2017-10-03T02:03:15.406633Z"
    },
    "collapsed": true
   },
   "outputs": [],
   "source": [
    "%matplotlib inline\n",
    "\n",
    "import pandas as pd\n",
    "import numpy as np\n",
    "import scipy as sp\n",
    "\n",
    "from IPython.display import display\n",
    "\n",
    "from sklearn.pipeline import Pipeline\n",
    "from sklearn.preprocessing import add_dummy_feature, Normalizer, PolynomialFeatures, StandardScaler,\\\n",
    "                                    OneHotEncoder, LabelEncoder, Imputer, LabelBinarizer\n",
    "\n",
    "from sklearn.model_selection import train_test_split, KFold, GridSearchCV\n",
    "\n",
    "from sklearn.ensemble import RandomForestRegressor, GradientBoostingRegressor\n",
    "from sklearn.metrics import mean_absolute_error\n",
    "from sklearn.cluster import AgglomerativeClustering\n",
    "\n",
    "from sklearn.externals import joblib\n",
    "\n",
    "import matplotlib.pyplot as plt\n",
    "import seaborn as sns\n",
    "\n",
    "import functions\n",
    "\n",
    "import gc"
   ]
  },
  {
   "cell_type": "code",
   "execution_count": null,
   "metadata": {
    "ExecuteTime": {
     "end_time": "2017-10-03T02:03:37.068625Z",
     "start_time": "2017-10-03T02:03:16.994811Z"
    },
    "collapsed": true
   },
   "outputs": [],
   "source": [
    "train_data = pd.read_csv('D:/Kaggle/zillow data/train_2016_v2.csv')\n",
    "properties_to_score = pd.read_csv('D:/Kaggle/zillow data/properties_2016.csv', low_memory=False)\n",
    "df_properties = pd.merge(train_data, properties_to_score, on='parcelid', how='left')\n",
    "\n",
    "del train_data\n",
    "gc.collect()"
   ]
  },
  {
   "cell_type": "code",
   "execution_count": null,
   "metadata": {
    "ExecuteTime": {
     "end_time": "2017-10-03T02:03:37.075631Z",
     "start_time": "2017-10-03T02:03:37.070627Z"
    },
    "collapsed": true
   },
   "outputs": [],
   "source": [
    "from sklearn.base import BaseEstimator, TransformerMixin\n",
    "\n",
    "class DataFrameSelector(BaseEstimator, TransformerMixin):\n",
    "    def __init__(self, attribute_names):\n",
    "        self.attribute_names = attribute_names\n",
    "    \n",
    "    def fit(self, X, y=None):\n",
    "        return self\n",
    "    \n",
    "    def transform(self, X):\n",
    "        return X[self.attribute_names].values"
   ]
  },
  {
   "cell_type": "code",
   "execution_count": null,
   "metadata": {
    "ExecuteTime": {
     "end_time": "2017-10-03T02:03:37.094150Z",
     "start_time": "2017-10-03T02:03:37.077133Z"
    },
    "collapsed": true
   },
   "outputs": [],
   "source": [
    "class myLabelBinarizer(BaseEstimator, TransformerMixin):\n",
    "    def __init__(self, prefix_sep='_', sparse_output=False):\n",
    "        self.prefix_sep = prefix_sep\n",
    "        self.sparse_output = sparse_output\n",
    "    \n",
    "    def fit(self, X):\n",
    "        self.lbDict = {}\n",
    "        self.classes_ = []\n",
    "        for var in X:\n",
    "            lb = LabelBinarizer(sparse_output=self.sparse_output)\n",
    "            lb.fit(X[var].fillna('nan').astype('str'))\n",
    "            self.lbDict[var] = lb\n",
    "            classes = [var+self.prefix_sep+x for x in lb.classes_]\n",
    "            self.classes_ += classes\n",
    "        return self\n",
    "    \n",
    "    def transform(self, X):\n",
    "        transformed = np.empty((X.shape[0], 1))\n",
    "        for var, lb in self.lbDict.items():\n",
    "            transformedX = lb.transform(X[var].fillna('nan').astype('str'))\n",
    "            print(var, transformedX.shape[1])\n",
    "            transformed = np.append(transformed, transformedX, axis=1)\n",
    "        return transformed"
   ]
  },
  {
   "cell_type": "code",
   "execution_count": null,
   "metadata": {
    "ExecuteTime": {
     "end_time": "2017-10-03T02:03:37.128683Z",
     "start_time": "2017-10-03T02:03:37.096151Z"
    },
    "collapsed": true
   },
   "outputs": [],
   "source": [
    "class df_data():\n",
    "    def __init__(self, df):\n",
    "        self.columns = df.columns\n",
    "        self.vars = {\n",
    "            'cat_vars': [\n",
    "                'airconditioningtypeid',\n",
    "                'architecturalstyletypeid',\n",
    "                'bathroomcnt',\n",
    "                'bedroomcnt',\n",
    "                'buildingclasstypeid',\n",
    "                'buildingqualitytypeid',\n",
    "                'calculatedbathnbr',\n",
    "                'decktypeid',\n",
    "                'fireplacecnt',\n",
    "                'fullbathcnt',\n",
    "                'garagecarcnt',\n",
    "                'fips',\n",
    "                'hashottuborspa',\n",
    "                'heatingorsystemtypeid',\n",
    "                'poolcnt',\n",
    "                'pooltypeid10',\n",
    "                'pooltypeid2',\n",
    "                'pooltypeid7',\n",
    "                'propertycountylandusecode',\n",
    "                'propertylandusetypeid',\n",
    "                'propertyzoningdesc',\n",
    "                'regionidcity',\n",
    "                'regionidzip',\n",
    "                'regionidneighborhood',\n",
    "                'regionidcounty',\n",
    "                'roomcnt',\n",
    "                'storytypeid',\n",
    "                'threequarterbathnbr',\n",
    "                'typeconstructiontypeid',\n",
    "                'unitcnt',\n",
    "                'yearbuilt',\n",
    "                'numberofstories',\n",
    "                'fireplaceflag',\n",
    "                'assessmentyear',\n",
    "                'taxdelinquencyflag',\n",
    "                'taxdelinquencyyear'\n",
    "                \n",
    "            ],\n",
    "            'num_var': [\n",
    "                'basementsqft',\n",
    "                'finishedfloor1squarefeet',\n",
    "                'calculatedfinishedsquarefeet',\n",
    "                'finishedsquarefeet12',\n",
    "                'finishedsquarefeet13',\n",
    "                'finishedsquarefeet15',\n",
    "                'finishedsquarefeet50',\n",
    "                'finishedsquarefeet6',\n",
    "                'garagetotalsqft',\n",
    "                'lotsizesquarefeet',\n",
    "                'poolsizesum',\n",
    "                'rawcensustractandblock',\n",
    "                'yardbuildingsqft17',\n",
    "                'yardbuildingsqft26',\n",
    "                'structuretaxvaluedollarcnt',\n",
    "                'taxvaluedollarcnt',\n",
    "                'landtaxvaluedollarcnt',\n",
    "                'taxamount',\n",
    "                'censustractandblock'\n",
    "            ],\n",
    "            'location': [\n",
    "                'latitude',\n",
    "                'longitude'\n",
    "            ],\n",
    "            'dep_var': 'logerror'}"
   ]
  },
  {
   "cell_type": "code",
   "execution_count": null,
   "metadata": {
    "ExecuteTime": {
     "end_time": "2017-10-03T02:03:37.136690Z",
     "start_time": "2017-10-03T02:03:37.131685Z"
    },
    "collapsed": true
   },
   "outputs": [],
   "source": [
    "df_data = df_data(df_properties)"
   ]
  },
  {
   "cell_type": "markdown",
   "metadata": {},
   "source": [
    "# Categorical Vars"
   ]
  },
  {
   "cell_type": "markdown",
   "metadata": {},
   "source": [
    "## Add Dummy Variables"
   ]
  },
  {
   "cell_type": "code",
   "execution_count": null,
   "metadata": {
    "ExecuteTime": {
     "end_time": "2017-09-27T03:31:37.575277Z",
     "start_time": "2017-09-27T03:31:20.247159Z"
    },
    "scrolled": true
   },
   "outputs": [],
   "source": [
    "transformed = pd.get_dummies(df_properties[df_data.vars['cat_vars']], sparse=True)\n",
    "transformed.head()"
   ]
  },
  {
   "cell_type": "markdown",
   "metadata": {},
   "source": [
    "## Add Additional Categorical Variables"
   ]
  },
  {
   "cell_type": "code",
   "execution_count": null,
   "metadata": {
    "collapsed": true
   },
   "outputs": [],
   "source": [
    "engineered_features = pd.DataFrame([])"
   ]
  },
  {
   "cell_type": "markdown",
   "metadata": {},
   "source": [
    "# Numerical Vars"
   ]
  },
  {
   "cell_type": "markdown",
   "metadata": {},
   "source": [
    "## Feature Engineering"
   ]
  },
  {
   "cell_type": "code",
   "execution_count": null,
   "metadata": {},
   "outputs": [],
   "source": [
    "numerical_nulls = df_properties[df_data.vars['num_var']].isnull()*1\n",
    "numerical_nulls_cols = [col+'_nan' for col in  numerical_nulls.columns]\n",
    "engineered_features[numerical_nulls_cols] = numerical_nulls\n",
    "\n",
    "del numerical_nulls\n",
    "del numerical_nulls_cols\n",
    "gc.collect()"
   ]
  },
  {
   "cell_type": "code",
   "execution_count": null,
   "metadata": {
    "collapsed": true
   },
   "outputs": [],
   "source": [
    "df_properties['location'] = df_properties['latitude'] + df_properties['longitude']\n",
    "df_properties['location2'] = df_properties['latitude']*df_properties['longitude']\n",
    "\n",
    "df_properties['diffFinUnfin'] = df_properties['finishedsquarefeet12'] - df_properties['finishedsquarefeet6']\n",
    "df_properties['totalRooms'] = df_properties['bathroomcnt'] + df_properties['bedroomcnt']\n",
    "df_properties['finishedsquarefeetError'] = df_properties['calculatedfinishedsquarefeet'] - df_properties['finishedsquarefeet12']\n",
    "df_properties['finishedsquarefeetError'] = abs(df_properties['calculatedfinishedsquarefeet'] - df_properties['finishedsquarefeet12'])\n",
    "df_properties['avgUnitSizeCalc'] = df_properties['unitcnt'] / df_properties['calculatedfinishedsquarefeet']\n",
    "df_properties['avgUnitSize'] = df_properties['unitcnt'] / df_properties['finishedsquarefeet12']\n",
    "df_properties['tanfinishedsqarefeetError'] = np.tanh(df_properties['calculatedfinishedsquarefeet']/ df_properties['finishedsquarefeet12'])"
   ]
  },
  {
   "cell_type": "markdown",
   "metadata": {},
   "source": [
    "# Merge Data"
   ]
  },
  {
   "cell_type": "code",
   "execution_count": null,
   "metadata": {
    "collapsed": true
   },
   "outputs": [],
   "source": [
    "df_modeling = np.hstack((transformed, engineered_features, df_properties[df_data.vars['num_var']]))"
   ]
  },
  {
   "cell_type": "markdown",
   "metadata": {},
   "source": [
    "## Imputing"
   ]
  },
  {
   "cell_type": "code",
   "execution_count": null,
   "metadata": {
    "ExecuteTime": {
     "end_time": "2017-09-27T03:32:03.387699Z",
     "start_time": "2017-09-27T03:32:03.384697Z"
    },
    "collapsed": true
   },
   "outputs": [],
   "source": [
    "imputer = Imputer(strategy='median')"
   ]
  },
  {
   "cell_type": "code",
   "execution_count": null,
   "metadata": {
    "ExecuteTime": {
     "end_time": "2017-09-27T03:32:16.395115Z",
     "start_time": "2017-09-27T03:32:06.094738Z"
    }
   },
   "outputs": [],
   "source": [
    "df_train, df_test, df_y_train, df_y_test = train_test_split(df_modeling, df_properties[['parcelid','logerror']], test_size=0.2)"
   ]
  },
  {
   "cell_type": "code",
   "execution_count": null,
   "metadata": {
    "ExecuteTime": {
     "end_time": "2017-09-27T03:33:03.183487Z",
     "start_time": "2017-09-27T03:32:16.400621Z"
    },
    "collapsed": true
   },
   "outputs": [],
   "source": [
    "df_train = imputer.fit_transform(df_train)\n",
    "df_test = imputer.transform(df_test)"
   ]
  },
  {
   "cell_type": "code",
   "execution_count": null,
   "metadata": {
    "ExecuteTime": {
     "end_time": "2017-09-27T03:33:03.580867Z",
     "start_time": "2017-09-27T03:33:03.187490Z"
    }
   },
   "outputs": [],
   "source": [
    "del df_modeling\n",
    "gc.collect()"
   ]
  },
  {
   "cell_type": "markdown",
   "metadata": {},
   "source": [
    "# Model"
   ]
  },
  {
   "cell_type": "markdown",
   "metadata": {},
   "source": [
    "## RF"
   ]
  },
  {
   "cell_type": "code",
   "execution_count": null,
   "metadata": {
    "ExecuteTime": {
     "end_time": "2017-08-14T00:18:52.258890Z",
     "start_time": "2017-08-14T00:18:52.256898Z"
    },
    "collapsed": true
   },
   "outputs": [],
   "source": [
    "from sklearn.model_selection import KFold"
   ]
  },
  {
   "cell_type": "code",
   "execution_count": null,
   "metadata": {
    "ExecuteTime": {
     "end_time": "2017-08-14T00:20:48.083502Z",
     "start_time": "2017-08-14T00:20:48.081500Z"
    },
    "collapsed": true
   },
   "outputs": [],
   "source": [
    "kf = KFold()"
   ]
  },
  {
   "cell_type": "code",
   "execution_count": null,
   "metadata": {},
   "outputs": [],
   "source": [
    "rf = RandomForestRegressor(n_estimators=100, criterion='mse', max_depth=8, n_jobs=-1)\n",
    "rf.fit(df_train, df_y_train.iloc[:,1])"
   ]
  },
  {
   "cell_type": "code",
   "execution_count": null,
   "metadata": {},
   "outputs": [],
   "source": [
    "print('Train', mean_absolute_error(df_y_train.iloc[:,1], rf.predict(df_train)))\n",
    "print('Test', mean_absolute_error(df_y_test.iloc[:,1], rf.predict(df_test)))"
   ]
  },
  {
   "cell_type": "code",
   "execution_count": null,
   "metadata": {
    "collapsed": true
   },
   "outputs": [],
   "source": [
    "allVariables = pd.concat([transformed, df_properties[df_data.vars['num_var']]], axis=1).columns"
   ]
  },
  {
   "cell_type": "code",
   "execution_count": null,
   "metadata": {},
   "outputs": [],
   "source": [
    "pd.DataFrame(rf.feature_importances_, columns=['variables'], index=allVariables).sort_values('variables', ascending=False).head(20).plot(kind='barh', figsize=(13, 7.5))"
   ]
  },
  {
   "cell_type": "markdown",
   "metadata": {},
   "source": [
    "## GBT"
   ]
  },
  {
   "cell_type": "code",
   "execution_count": null,
   "metadata": {
    "ExecuteTime": {
     "end_time": "2017-09-24T03:40:46.691025Z",
     "start_time": "2017-09-24T03:36:06.634651Z"
    }
   },
   "outputs": [],
   "source": [
    "gb = GradientBoostingRegressor(n_estimators=10, max_depth=5, loss='lad', learning_rate=0.1)\n",
    "\n",
    "gb.fit(df_train, df_y_train['logerror'])"
   ]
  },
  {
   "cell_type": "code",
   "execution_count": null,
   "metadata": {
    "ExecuteTime": {
     "end_time": "2017-09-24T03:40:46.691025Z",
     "start_time": "2017-09-24T03:36:06.634651Z"
    }
   },
   "outputs": [],
   "source": [
    "print('Train ', mean_absolute_error(df_y_train['logerror'], gb.predict(df_train)))\n",
    "print('Test ', mean_absolute_error(df_y_test['logerror'], gb.predict(df_test)))"
   ]
  },
  {
   "cell_type": "code",
   "execution_count": null,
   "metadata": {},
   "outputs": [],
   "source": [
    "allVariables = pd.concat([transformed, engineered_features, df_properties[df_data.vars['num_var']]], axis=1).columns\n",
    "feature_importance = pd.DataFrame(gb.feature_importances_, columns=['variables'], index=allVariables).sort_values('variables', ascending=False)\n",
    "feature_importance\\\n",
    "    .head(20)\\\n",
    "    .plot(kind='barh', figsize=(13, 7.5))"
   ]
  },
  {
   "cell_type": "markdown",
   "metadata": {},
   "source": [
    "# Model with top 20 features"
   ]
  },
  {
   "cell_type": "code",
   "execution_count": null,
   "metadata": {},
   "outputs": [],
   "source": [
    "feature_importance.head(20).index"
   ]
  },
  {
   "cell_type": "code",
   "execution_count": null,
   "metadata": {},
   "outputs": [],
   "source": [
    "df_modeling = pd.concat([transformed, engineered_features, df_properties[df_data.vars['num_var']]], axis=1)[feature_importance.head(20).index]"
   ]
  },
  {
   "cell_type": "markdown",
   "metadata": {},
   "source": [
    "## Imputing"
   ]
  },
  {
   "cell_type": "code",
   "execution_count": null,
   "metadata": {
    "ExecuteTime": {
     "end_time": "2017-09-27T03:32:03.387699Z",
     "start_time": "2017-09-27T03:32:03.384697Z"
    },
    "collapsed": true
   },
   "outputs": [],
   "source": [
    "imputer = Imputer(strategy='median')"
   ]
  },
  {
   "cell_type": "code",
   "execution_count": null,
   "metadata": {
    "ExecuteTime": {
     "end_time": "2017-09-27T03:32:16.395115Z",
     "start_time": "2017-09-27T03:32:06.094738Z"
    },
    "collapsed": true
   },
   "outputs": [],
   "source": [
    "df_train, df_test, df_y_train, df_y_test = train_test_split(df_modeling, df_properties[['parcelid','logerror']], test_size=0.2)"
   ]
  },
  {
   "cell_type": "code",
   "execution_count": null,
   "metadata": {
    "ExecuteTime": {
     "end_time": "2017-09-27T03:33:03.183487Z",
     "start_time": "2017-09-27T03:32:16.400621Z"
    },
    "collapsed": true
   },
   "outputs": [],
   "source": [
    "df_train = imputer.fit_transform(df_train)\n",
    "df_test = imputer.transform(df_test)"
   ]
  },
  {
   "cell_type": "code",
   "execution_count": null,
   "metadata": {
    "ExecuteTime": {
     "end_time": "2017-09-27T03:33:03.580867Z",
     "start_time": "2017-09-27T03:33:03.187490Z"
    }
   },
   "outputs": [],
   "source": [
    "del df_modeling\n",
    "gc.collect()"
   ]
  },
  {
   "cell_type": "code",
   "execution_count": null,
   "metadata": {},
   "outputs": [],
   "source": [
    "gb = GradientBoostingRegressor(n_estimators=500, max_depth=8, loss='lad', learning_rate=0.01)\n",
    "\n",
    "gb.fit(df_train, df_y_train['logerror'])"
   ]
  },
  {
   "cell_type": "code",
   "execution_count": null,
   "metadata": {
    "ExecuteTime": {
     "end_time": "2017-09-24T03:40:46.691025Z",
     "start_time": "2017-09-24T03:36:06.634651Z"
    }
   },
   "outputs": [],
   "source": [
    "print('Train ', mean_absolute_error(df_y_train['logerror'], gb.predict(df_train)))\n",
    "print('Test ', mean_absolute_error(df_y_test['logerror'], gb.predict(df_test)))"
   ]
  },
  {
   "cell_type": "code",
   "execution_count": null,
   "metadata": {
    "ExecuteTime": {
     "end_time": "2017-09-24T03:40:46.691025Z",
     "start_time": "2017-09-24T03:36:06.634651Z"
    }
   },
   "outputs": [],
   "source": [
    "print('Train ', mean_absolute_error(df_y_train['logerror'], gb.predict(df_train)))\n",
    "print('Test ', mean_absolute_error(df_y_test['logerror'], gb.predict(df_test)))"
   ]
  },
  {
   "cell_type": "code",
   "execution_count": null,
   "metadata": {
    "ExecuteTime": {
     "end_time": "2017-09-24T03:40:46.691025Z",
     "start_time": "2017-09-24T03:36:06.634651Z"
    }
   },
   "outputs": [],
   "source": [
    "print('Train ', mean_absolute_error(df_y_train['logerror'], gb.predict(df_train)))\n",
    "print('Test ', mean_absolute_error(df_y_test['logerror'], gb.predict(df_test)))"
   ]
  },
  {
   "cell_type": "code",
   "execution_count": null,
   "metadata": {},
   "outputs": [],
   "source": [
    "(df_y_test['logerror'] - gb.predict(df_test)).plot(kind='hist', bins=25, log=True)"
   ]
  },
  {
   "cell_type": "code",
   "execution_count": null,
   "metadata": {},
   "outputs": [],
   "source": [
    "allVariables = feature_importance.head(20).index\n",
    "feature_importance = pd.DataFrame(gb.feature_importances_, columns=['variables'], index=allVariables).sort_values('variables', ascending=False)\n",
    "feature_importance\\\n",
    "    .plot(kind='barh', figsize=(13, 7.5))"
   ]
  },
  {
   "cell_type": "code",
   "execution_count": null,
   "metadata": {
    "ExecuteTime": {
     "end_time": "2017-09-27T03:27:24.137698Z",
     "start_time": "2017-09-27T03:27:24.135207Z"
    },
    "collapsed": true
   },
   "outputs": [],
   "source": []
  },
  {
   "cell_type": "markdown",
   "metadata": {},
   "source": [
    "### Save"
   ]
  },
  {
   "cell_type": "code",
   "execution_count": null,
   "metadata": {
    "ExecuteTime": {
     "end_time": "2017-09-27T03:24:09.493994Z",
     "start_time": "2017-09-27T03:24:09.487988Z"
    }
   },
   "outputs": [],
   "source": [
    "joblib.dump(gb, 'gb_model.pkl')"
   ]
  },
  {
   "cell_type": "code",
   "execution_count": null,
   "metadata": {
    "ExecuteTime": {
     "end_time": "2017-09-27T03:27:39.539528Z",
     "start_time": "2017-09-27T03:27:39.535524Z"
    },
    "collapsed": true
   },
   "outputs": [],
   "source": [
    "gb = joblib.load('gb_model.pkl')"
   ]
  },
  {
   "cell_type": "markdown",
   "metadata": {},
   "source": [
    "## Final Model"
   ]
  },
  {
   "cell_type": "markdown",
   "metadata": {},
   "source": [
    "# GridSearch"
   ]
  },
  {
   "cell_type": "code",
   "execution_count": null,
   "metadata": {
    "ExecuteTime": {
     "end_time": "2017-08-14T04:49:48.289204Z",
     "start_time": "2017-08-14T04:49:48.286212Z"
    },
    "collapsed": true
   },
   "outputs": [],
   "source": [
    "from sklearn.metrics import make_scorer"
   ]
  },
  {
   "cell_type": "code",
   "execution_count": null,
   "metadata": {
    "ExecuteTime": {
     "end_time": "2017-08-14T04:50:39.073386Z",
     "start_time": "2017-08-14T04:50:39.070383Z"
    },
    "collapsed": true
   },
   "outputs": [],
   "source": [
    "mae = make_scorer(mean_absolute_error, greater_is_better=False)\n",
    "param_grid = {'n_estimators': [8],\n",
    "              'max_depth': [5, 10]}\n",
    "gs = GridSearchCV(RandomForestRegressor(n_jobs=-1), param_grid=param_grid, cv=3, verbose=10, scoring=mae, n_jobs=2)"
   ]
  },
  {
   "cell_type": "code",
   "execution_count": null,
   "metadata": {
    "ExecuteTime": {
     "end_time": "2017-08-14T04:56:05.031285Z",
     "start_time": "2017-08-14T04:50:40.670357Z"
    }
   },
   "outputs": [],
   "source": [
    "gs.fit(df_train.toarray(), df_y_train['logerror'])"
   ]
  },
  {
   "cell_type": "code",
   "execution_count": null,
   "metadata": {
    "ExecuteTime": {
     "end_time": "2017-08-14T04:56:05.036291Z",
     "start_time": "2017-08-14T04:56:05.032286Z"
    }
   },
   "outputs": [],
   "source": [
    "gs.best_estimator_"
   ]
  },
  {
   "cell_type": "code",
   "execution_count": null,
   "metadata": {
    "collapsed": true
   },
   "outputs": [],
   "source": []
  },
  {
   "cell_type": "code",
   "execution_count": null,
   "metadata": {
    "collapsed": true
   },
   "outputs": [],
   "source": []
  },
  {
   "cell_type": "code",
   "execution_count": null,
   "metadata": {
    "collapsed": true
   },
   "outputs": [],
   "source": []
  },
  {
   "cell_type": "markdown",
   "metadata": {},
   "source": [
    "## Final Scoring"
   ]
  },
  {
   "cell_type": "code",
   "execution_count": null,
   "metadata": {
    "ExecuteTime": {
     "end_time": "2017-09-27T03:50:48.323456Z",
     "start_time": "2017-09-27T03:50:48.312945Z"
    },
    "collapsed": true,
    "scrolled": false
   },
   "outputs": [],
   "source": [
    "def scoreData():\n",
    "    final_scores = pd.DataFrame()\n",
    "    chunk_size = 10000\n",
    "    print('Begin')\n",
    "    for chunk in pd.read_csv('D:/Kaggle/zillow data/properties_2016.csv', chunksize=chunk_size, low_memory=False):\n",
    "        # Prepare chunk for scoring\n",
    "#         cat_vars = lb.transform(chunk[df_data.vars['cat_vars']])\n",
    "        cat_vars = pd.get_dummies(chunk[df_data.vars['cat_vars']])\n",
    "        cat_vars = cat_vars.reindex(columns=transformed.columns, fill_value=0)\n",
    "        print(chunk[df_data.vars['cat_vars']].shape)\n",
    "        print(cat_vars.shape)\n",
    "        print(chunk[df_data.vars['num_var']].shape)\n",
    "        all_vars = imputer.transform(np.append(np.array(cat_vars), chunk[df_data.vars['num_var']], axis=1))\n",
    "        print(all_vars.shape)\n",
    "        del cat_vars\n",
    "        gc.collect()\n",
    "    #     # Score chunk\n",
    "        scores = gb.predict(all_vars)\n",
    "        final_scores = final_scores.append([chunk[df_data.vars['dep_var']], scores])\n",
    "    return final_scores"
   ]
  },
  {
   "cell_type": "code",
   "execution_count": null,
   "metadata": {
    "ExecuteTime": {
     "end_time": "2017-09-27T03:50:48.323456Z",
     "start_time": "2017-09-27T03:50:48.312945Z"
    },
    "scrolled": false
   },
   "outputs": [],
   "source": [
    "def scoreData():\n",
    "    final_scores = []\n",
    "    final_id = []\n",
    "    chunk_size = 500000\n",
    "    print('Begin')\n",
    "    for chunk in pd.read_csv('D:/Kaggle/zillow data/properties_2016.csv', chunksize=chunk_size, low_memory=False):\n",
    "        # Prepare chunk for scoring\n",
    "#         cat_vars = lb.transform(chunk[df_data.vars['cat_vars']])\n",
    "        cat_vars = pd.get_dummies(chunk[[var for var in df_data.vars['cat_vars'] if var in feature_importance.head(20).index]])\n",
    "        cat_vars = cat_vars.reindex(columns=[var for var in transformed.columns if var in feature_importance.head(20).index], fill_value=0)\n",
    "\n",
    "        all_vars = imputer.transform(np.append(np.array(cat_vars), chunk[[var for var in df_data.vars['num_var'] if var in feature_importance.head(20).index]], axis=1))\n",
    "        print(all_vars.shape)\n",
    "        del cat_vars\n",
    "        gc.collect()\n",
    "        \n",
    "    #     # Score chunk\n",
    "        print('Scoring....')\n",
    "        scores = gb.predict(all_vars)\n",
    "        final_scores.append( scores)\n",
    "        final_id.append(chunk['parcelid'])\n",
    "    return final_scores, final_id"
   ]
  },
  {
   "cell_type": "code",
   "execution_count": null,
   "metadata": {
    "ExecuteTime": {
     "end_time": "2017-09-27T03:45:32.415051Z",
     "start_time": "2017-09-27T03:45:29.755501Z"
    },
    "scrolled": false
   },
   "outputs": [],
   "source": [
    "final_scores, final_id = scoreData()"
   ]
  },
  {
   "cell_type": "code",
   "execution_count": null,
   "metadata": {},
   "outputs": [],
   "source": [
    "final_scores = np.hstack(final_scores)\n",
    "final_id = np.hstack(final_id)"
   ]
  },
  {
   "cell_type": "code",
   "execution_count": null,
   "metadata": {},
   "outputs": [],
   "source": [
    "col_header = ['ParcelId','201610','201611','201612','201710','201711','201712']\n",
    "\n",
    "output = pd.DataFrame([final_id, final_scores, final_scores, final_scores,\n",
    "                       final_scores, final_scores, final_scores], index=col_header).T\n",
    "\n",
    "output['ParcelId'] = output['ParcelId'].apply(lambda x: int(x))"
   ]
  },
  {
   "cell_type": "code",
   "execution_count": null,
   "metadata": {
    "collapsed": true
   },
   "outputs": [],
   "source": [
    "output.to_csv('test4.csv', index=False)"
   ]
  },
  {
   "cell_type": "code",
   "execution_count": null,
   "metadata": {
    "collapsed": true
   },
   "outputs": [],
   "source": []
  }
 ],
 "metadata": {
  "kernelspec": {
   "display_name": "Python 3",
   "language": "python",
   "name": "python3"
  },
  "language_info": {
   "codemirror_mode": {
    "name": "ipython",
    "version": 3
   },
   "file_extension": ".py",
   "mimetype": "text/x-python",
   "name": "python",
   "nbconvert_exporter": "python",
   "pygments_lexer": "ipython3",
   "version": "3.6.2"
  },
  "toc": {
   "colors": {
    "hover_highlight": "#DAA520",
    "navigate_num": "#000000",
    "navigate_text": "#333333",
    "running_highlight": "#FF0000",
    "selected_highlight": "#FFD700",
    "sidebar_border": "#EEEEEE",
    "wrapper_background": "#FFFFFF"
   },
   "moveMenuLeft": true,
   "nav_menu": {
    "height": "138px",
    "width": "252px"
   },
   "navigate_menu": true,
   "number_sections": true,
   "sideBar": true,
   "threshold": 4,
   "toc_cell": false,
   "toc_section_display": "block",
   "toc_window_display": false,
   "widenNotebook": false
  }
 },
 "nbformat": 4,
 "nbformat_minor": 2
}
